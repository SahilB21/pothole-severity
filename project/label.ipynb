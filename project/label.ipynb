{
 "cells": [
  {
   "cell_type": "code",
   "execution_count": 1,
   "id": "65b5ea50",
   "metadata": {
    "scrolled": true
   },
   "outputs": [],
   "source": [
    "import cv2 as cv\n",
    "import os\n",
    "import csv"
   ]
  },
  {
   "cell_type": "code",
   "execution_count": 2,
   "id": "157c7250",
   "metadata": {},
   "outputs": [],
   "source": [
    "path = \"C:\\\\Users\\\\sbhat\\\\Downloads\\\\pothole600\\\\pothole600\\\\training\\\\tdisp\""
   ]
  },
  {
   "cell_type": "code",
   "execution_count": null,
   "id": "dc2475df",
   "metadata": {},
   "outputs": [],
   "source": [
    "with open('potholes.csv', 'w') as file:\n",
    "    writer = csv.writer(file)\n",
    "\n",
    "    for image in os.listdir(path):\n",
    "        img = cv.imread(os.path.join(path, image))\n",
    "        cv.imshow(\"Display Window\", img)\n",
    "        k = cv.waitKey(0)\n",
    "\n",
    "        if k == ord(\"1\"):\n",
    "            writer.writerow([image, 1])\n",
    "\n",
    "        if k == ord(\"2\"):\n",
    "            writer.writerow([image, 2])\n",
    "\n",
    "        if k == ord(\"3\"):\n",
    "            writer.writerow([image, 3])\n",
    "\n",
    "        if k == ord(\"4\"):\n",
    "            writer.writerow([image, 4])\n",
    "\n",
    "        if k == ord(\"5\"):\n",
    "            writer.writerow([image, 5])\n",
    "            \n",
    "        if k == ord(\"b\"):\n",
    "            break\n",
    "file.close()"
   ]
  },
  {
   "cell_type": "code",
   "execution_count": null,
   "id": "f39d0d97",
   "metadata": {},
   "outputs": [],
   "source": []
  }
 ],
 "metadata": {
  "kernelspec": {
   "display_name": "Python 3 (ipykernel)",
   "language": "python",
   "name": "python3"
  },
  "language_info": {
   "codemirror_mode": {
    "name": "ipython",
    "version": 3
   },
   "file_extension": ".py",
   "mimetype": "text/x-python",
   "name": "python",
   "nbconvert_exporter": "python",
   "pygments_lexer": "ipython3",
   "version": "3.9.13"
  }
 },
 "nbformat": 4,
 "nbformat_minor": 5
}
