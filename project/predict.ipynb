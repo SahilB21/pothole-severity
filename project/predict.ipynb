{
 "cells": [
  {
   "cell_type": "code",
   "execution_count": null,
   "id": "6071b5ed",
   "metadata": {},
   "outputs": [],
   "source": [
    "# set the numpy seed for better reproducibility\n",
    "import numpy as np\n",
    "np.random.seed(42)\n",
    "# import the necessary packages\n",
    "from torch.utils.data import DataLoader\n",
    "from torch.utils.data import Subset\n",
    "from torchvision.transforms import ToTensor\n",
    "from torchvision.datasets import KMNIST\n",
    "import argparse\n",
    "import imutils\n",
    "import torch\n",
    "import cv2"
   ]
  },
  {
   "cell_type": "code",
   "execution_count": null,
   "id": "a7a7c6e0",
   "metadata": {},
   "outputs": [],
   "source": [
    "# construct the argument parser and parse the arguments\n",
    "ap = argparse.ArgumentParser()\n",
    "ap.add_argument(\"-m\", \"--model\", type=str, required=True,\n",
    "\thelp=\"path to the trained PyTorch model\")\n",
    "args = vars(ap.parse_args())"
   ]
  },
  {
   "cell_type": "code",
   "execution_count": null,
   "id": "1d11c544",
   "metadata": {},
   "outputs": [],
   "source": [
    "# set the device we will be using to test the model\n",
    "device = torch.device(\"cuda\" if torch.cuda.is_available() else \"cpu\")\n",
    "# load the KMNIST dataset and randomly grab 10 data points\n",
    "print(\"[INFO] loading the KMNIST test dataset...\")\n",
    "testData = KMNIST(root=\"data\", train=False, download=True,\n",
    "\ttransform=ToTensor())\n",
    "idxs = np.random.choice(range(0, len(testData)), size=(10,))\n",
    "testData = Subset(testData, idxs)\n",
    "# initialize the test data loader\n",
    "testDataLoader = DataLoader(testData, batch_size=1)\n",
    "# load the model and set it to evaluation mode\n",
    "model = torch.load(args[\"model\"]).to(device)\n",
    "model.eval()"
   ]
  },
  {
   "cell_type": "code",
   "execution_count": null,
   "id": "495c1a6d",
   "metadata": {},
   "outputs": [],
   "source": [
    "# switch off autograd\n",
    "with torch.no_grad():\n",
    "\t# loop over the test set\n",
    "\tfor (image, label) in testDataLoader:\n",
    "\t\t# grab the original image and ground truth label\n",
    "\t\torigImage = image.numpy().squeeze(axis=(0, 1))\n",
    "\t\tgtLabel = testData.dataset.classes[label.numpy()[0]]\n",
    "\t\t# send the input to the device and make predictions on it\n",
    "\t\timage = image.to(device)\n",
    "\t\tpred = model(image)\n",
    "\t\t# find the class label index with the largest corresponding\n",
    "\t\t# probability\n",
    "\t\tidx = pred.argmax(axis=1).cpu().numpy()[0]\n",
    "\t\tpredLabel = testData.dataset.classes[idx]\n",
    "\n",
    "\t\t# convert the image from grayscale to RGB (so we can draw on\n",
    "\t\t# it) and resize it (so we can more easily see it on our\n",
    "\t\t# screen)\n",
    "\t\torigImage = np.dstack([origImage] * 3)\n",
    "\t\torigImage = imutils.resize(origImage, width=128)\n",
    "\t\t# draw the predicted class label on it\n",
    "\t\tcolor = (0, 255, 0) if gtLabel == predLabel else (0, 0, 255)\n",
    "\t\tcv2.putText(origImage, gtLabel, (2, 25),\n",
    "\t\t\tcv2.FONT_HERSHEY_SIMPLEX, 0.95, color, 2)\n",
    "\t\t# display the result in terminal and show the input image\n",
    "\t\tprint(\"[INFO] ground truth label: {}, predicted label: {}\".format(\n",
    "\t\t\tgtLabel, predLabel))\n",
    "\t\tcv2.imshow(\"image\", origImage)\n",
    "\t\tcv2.waitKey(0)"
   ]
  }
 ],
 "metadata": {
  "kernelspec": {
   "display_name": "Python 3 (ipykernel)",
   "language": "python",
   "name": "python3"
  },
  "language_info": {
   "codemirror_mode": {
    "name": "ipython",
    "version": 3
   },
   "file_extension": ".py",
   "mimetype": "text/x-python",
   "name": "python",
   "nbconvert_exporter": "python",
   "pygments_lexer": "ipython3",
   "version": "3.9.13"
  }
 },
 "nbformat": 4,
 "nbformat_minor": 5
}
